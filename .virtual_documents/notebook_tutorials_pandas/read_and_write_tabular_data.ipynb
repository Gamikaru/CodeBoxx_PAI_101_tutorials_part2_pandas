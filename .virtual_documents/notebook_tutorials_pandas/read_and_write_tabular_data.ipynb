


import pandas as pd








titanic = pd.read_csv("titanic.csv")





titanic.head(8)











titanic.dtypes











titanic.to_excel("titanic.xlsx", sheet_name="passengers", index=False)








titanic = pd.read_excel("titanic.xlsx", sheet_name="passengers")


titanic.tail(19)





titanic.info()












