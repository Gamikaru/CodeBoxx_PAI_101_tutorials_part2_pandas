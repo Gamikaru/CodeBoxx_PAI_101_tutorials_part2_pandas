





import pandas as pd



titanic = pd.read_csv("../data/titanic.csv")


titanic.head()


air_quality = pd.read_csv("../data/air_quality_long.csv", index_col="date.utc", parse_dates=True)


air_quality.head()





titanic.sort_values(by="Age").head(10)





titanic.sort_values(by=['Pclass', 'Age'], ascending=False).head()









